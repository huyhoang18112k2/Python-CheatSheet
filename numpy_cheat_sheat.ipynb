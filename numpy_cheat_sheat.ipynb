{
 "cells": [
  {
   "cell_type": "code",
   "execution_count": 2,
   "id": "4388ebf1",
   "metadata": {},
   "outputs": [],
   "source": [
    "import numpy as np"
   ]
  },
  {
   "cell_type": "markdown",
   "id": "d5202f68",
   "metadata": {},
   "source": [
    "## Create array in range"
   ]
  },
  {
   "cell_type": "code",
   "execution_count": 4,
   "id": "31fbb306",
   "metadata": {},
   "outputs": [
    {
     "data": {
      "text/plain": [
       "array([0., 1., 2., 3., 4., 5., 6., 7., 8., 9.])"
      ]
     },
     "execution_count": 4,
     "metadata": {},
     "output_type": "execute_result"
    }
   ],
   "source": [
    "#Create array\n",
    "np.arange(10, dtype = 'float64')"
   ]
  },
  {
   "cell_type": "code",
   "execution_count": 5,
   "id": "1ecdc6a6",
   "metadata": {},
   "outputs": [
    {
     "data": {
      "text/plain": [
       "array([[[1., 1., 1., 1.],\n",
       "        [1., 1., 1., 1.],\n",
       "        [1., 1., 1., 1.]],\n",
       "\n",
       "       [[1., 1., 1., 1.],\n",
       "        [1., 1., 1., 1.],\n",
       "        [1., 1., 1., 1.]]])"
      ]
     },
     "execution_count": 5,
     "metadata": {},
     "output_type": "execute_result"
    }
   ],
   "source": [
    "np.ones((2, 3, 4))"
   ]
  },
  {
   "cell_type": "code",
   "execution_count": 16,
   "id": "c59edfec",
   "metadata": {},
   "outputs": [
    {
     "name": "stdout",
     "output_type": "stream",
     "text": [
      "[[ 0.49671415 -0.1382643   0.64768854  1.52302986]\n",
      " [-0.23415337 -0.23413696  1.57921282  0.76743473]\n",
      " [-0.46947439  0.54256004 -0.46341769 -0.46572975]]\n"
     ]
    },
    {
     "data": {
      "text/plain": [
       "array([[0.30424224, 0.52475643, 0.43194502, 0.29122914],\n",
       "       [0.61185289, 0.13949386, 0.29214465, 0.36636184],\n",
       "       [0.45606998, 0.78517596, 0.19967378, 0.51423444]])"
      ]
     },
     "execution_count": 16,
     "metadata": {},
     "output_type": "execute_result"
    }
   ],
   "source": [
    "#Random create array in normal standard and Gaussian standard\n",
    "np.random.seed(42)\n",
    "print(np.random.normal(0,1,size = (3,4)))\n",
    "np.random.rand(3,4)"
   ]
  },
  {
   "cell_type": "markdown",
   "id": "43bd58f9",
   "metadata": {},
   "source": [
    "## Operator in element wise"
   ]
  },
  {
   "cell_type": "code",
   "execution_count": 18,
   "id": "dea2e46c",
   "metadata": {},
   "outputs": [
    {
     "data": {
      "text/plain": [
       "(array([ 3,  4,  6, 10]),\n",
       " array([-1,  0,  2,  6]),\n",
       " array([ 2,  4,  8, 16]),\n",
       " array([0.5, 1. , 2. , 4. ]),\n",
       " array([0, 1, 2, 4], dtype=int32),\n",
       " array([ 1,  4, 16, 64], dtype=int32))"
      ]
     },
     "execution_count": 18,
     "metadata": {},
     "output_type": "execute_result"
    }
   ],
   "source": [
    "#Example :\n",
    "x = np.array([1, 2, 4, 8])\n",
    "y = np.array([2, 2, 2, 2])\n",
    "x + y, x - y, x * y, x / y, x// y, x ** y  # The ** operator is exponentiation"
   ]
  },
  {
   "cell_type": "markdown",
   "id": "f7327c15",
   "metadata": {},
   "source": [
    "## Concatenate nparray"
   ]
  },
  {
   "cell_type": "code",
   "execution_count": 24,
   "id": "08605bba",
   "metadata": {},
   "outputs": [
    {
     "data": {
      "text/plain": [
       "(array([[ 0,  1,  2,  3],\n",
       "        [ 4,  5,  6,  7],\n",
       "        [ 8,  9, 10, 11],\n",
       "        [ 2,  1,  4,  3],\n",
       "        [ 1,  2,  3,  4],\n",
       "        [ 4,  3,  2,  1]]),\n",
       " array([[ 0,  1,  2,  3,  2,  1,  4,  3],\n",
       "        [ 4,  5,  6,  7,  1,  2,  3,  4],\n",
       "        [ 8,  9, 10, 11,  4,  3,  2,  1]]))"
      ]
     },
     "execution_count": 24,
     "metadata": {},
     "output_type": "execute_result"
    }
   ],
   "source": [
    "x = np.arange(12).reshape(3, 4)\n",
    "y = np.array([[2, 1, 4, 3], [1, 2, 3, 4], [4, 3, 2, 1]])\n",
    "np.concatenate([x, y], axis=0), np.concatenate([x, y], axis=1)\n",
    "# axis = 0, concatenate by colums, axis = 1 concatenate by rows"
   ]
  },
  {
   "cell_type": "markdown",
   "id": "4ecaef26",
   "metadata": {},
   "source": [
    "## Sum all elements in a array "
   ]
  },
  {
   "cell_type": "code",
   "execution_count": 4,
   "id": "c68a730e",
   "metadata": {},
   "outputs": [
    {
     "data": {
      "text/plain": [
       "66"
      ]
     },
     "execution_count": 4,
     "metadata": {},
     "output_type": "execute_result"
    }
   ],
   "source": [
    "x.sum()"
   ]
  },
  {
   "cell_type": "markdown",
   "id": "39dd4cc9",
   "metadata": {},
   "source": [
    "## Broadcasting Mechanism"
   ]
  },
  {
   "cell_type": "code",
   "execution_count": 5,
   "id": "45874081",
   "metadata": {},
   "outputs": [
    {
     "data": {
      "text/plain": [
       "(array([[0],\n",
       "        [1],\n",
       "        [2]]),\n",
       " array([[0, 1]]))"
      ]
     },
     "execution_count": 5,
     "metadata": {},
     "output_type": "execute_result"
    }
   ],
   "source": [
    "a = np.arange(3).reshape(3, 1)\n",
    "b = np.arange(2).reshape(1, 2)\n",
    "a, b"
   ]
  },
  {
   "cell_type": "code",
   "execution_count": 6,
   "id": "d69e5e9e",
   "metadata": {},
   "outputs": [
    {
     "data": {
      "text/plain": [
       "array([[0, 1],\n",
       "       [1, 2],\n",
       "       [2, 3]])"
      ]
     },
     "execution_count": 6,
     "metadata": {},
     "output_type": "execute_result"
    }
   ],
   "source": [
    "#Broadcasting \n",
    "# a: 3x1 matrix , b: 1x2 matrix => a+b will become 3x2 matrix\n",
    "a+b"
   ]
  },
  {
   "cell_type": "markdown",
   "id": "df705c88",
   "metadata": {},
   "source": [
    "## Indexing and Splitting"
   ]
  },
  {
   "cell_type": "code",
   "execution_count": 12,
   "id": "ac1661fd",
   "metadata": {},
   "outputs": [
    {
     "name": "stdout",
     "output_type": "stream",
     "text": [
      "[ 8  9 10 11] - last columns\n"
     ]
    },
    {
     "data": {
      "text/plain": [
       "array([[ 4,  5,  6,  7],\n",
       "       [ 8,  9, 10, 11]])"
      ]
     },
     "execution_count": 12,
     "metadata": {},
     "output_type": "execute_result"
    }
   ],
   "source": [
    "print(f'{x[-1]} - last columns') # return last columns of matric X\n",
    "x[1:3] # columns 1 to 2 columns"
   ]
  },
  {
   "cell_type": "markdown",
   "id": "96e2d06a",
   "metadata": {},
   "source": [
    "## Assign elements"
   ]
  },
  {
   "cell_type": "code",
   "execution_count": 15,
   "id": "46b900fb",
   "metadata": {},
   "outputs": [
    {
     "data": {
      "text/plain": [
       "array([[ 0,  1,  2,  3],\n",
       "       [ 4,  5,  9,  7],\n",
       "       [ 8,  9, 10, 11]])"
      ]
     },
     "execution_count": 15,
     "metadata": {},
     "output_type": "execute_result"
    }
   ],
   "source": [
    "x[1,2] = 9 # Assign one element\n",
    "x"
   ]
  },
  {
   "cell_type": "code",
   "execution_count": 25,
   "id": "3f1172f1",
   "metadata": {},
   "outputs": [
    {
     "data": {
      "text/plain": [
       "array([[12, 12,  2,  3],\n",
       "       [12, 12,  6,  7],\n",
       "       [ 8,  9, 10, 11]])"
      ]
     },
     "execution_count": 25,
     "metadata": {},
     "output_type": "execute_result"
    }
   ],
   "source": [
    "x[0:2, 0:2] = 12\n",
    "x"
   ]
  },
  {
   "cell_type": "markdown",
   "id": "a032397d",
   "metadata": {},
   "source": [
    "## Save Memory"
   ]
  },
  {
   "cell_type": "code",
   "execution_count": 29,
   "id": "65771ea0",
   "metadata": {},
   "outputs": [
    {
     "name": "stdout",
     "output_type": "stream",
     "text": [
      "before: id(z): 2295816728080\n",
      "before: id(y): 2295811534064\n",
      "after: id(z): 2295816728080\n",
      "after: id(y): 2295811534064\n"
     ]
    }
   ],
   "source": [
    "# Not change address of an element when update using Slice Notation(\":\")\n",
    "z = np.zeros_like(y)\n",
    "print('before: id(z):', id(z))\n",
    "print('before: id(y):', id(y))\n",
    "z[:] = x + y\n",
    "y+=x\n",
    "print('after: id(z):', id(z))\n",
    "print('after: id(y):', id(y))\n"
   ]
  },
  {
   "cell_type": "code",
   "execution_count": null,
   "id": "67c60301",
   "metadata": {},
   "outputs": [],
   "source": []
  }
 ],
 "metadata": {
  "kernelspec": {
   "display_name": "Python 3 (ipykernel)",
   "language": "python",
   "name": "python3"
  },
  "language_info": {
   "codemirror_mode": {
    "name": "ipython",
    "version": 3
   },
   "file_extension": ".py",
   "mimetype": "text/x-python",
   "name": "python",
   "nbconvert_exporter": "python",
   "pygments_lexer": "ipython3",
   "version": "3.8.8"
  }
 },
 "nbformat": 4,
 "nbformat_minor": 5
}
